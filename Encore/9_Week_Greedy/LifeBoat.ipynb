{
  "nbformat": 4,
  "nbformat_minor": 0,
  "metadata": {
    "colab": {
      "name": "LifeBoat.ipynb",
      "provenance": [],
      "authorship_tag": "ABX9TyO7MFt8eaDukDyRQjs1NhRA"
    },
    "kernelspec": {
      "name": "python3",
      "display_name": "Python 3"
    },
    "language_info": {
      "name": "python"
    }
  },
  "cells": [
    {
      "cell_type": "markdown",
      "source": [
        "# 구명보트\n",
        "\n",
        "### - 문제 설명\n",
        "\n",
        "무인도에 갇힌 사람들을 구명보트를 이용하여 구출하려고 합니다. 구명보트는 작아서 한 번에 최대 2명씩 밖에 탈 수 없고, 무게 제한도 있습니다.\n",
        "\n",
        "예를 들어, 사람들의 몸무게가 [70kg, 50kg, 80kg, 50kg]이고 구명보트의 무게 제한이 100kg이라면 2번째 사람과 4번째 사람은 같이 탈 수 있지만 1번째 사람과 3번째 사람의 무게의 합은 150kg이므로 구명보트의 무게 제한을 초과하여 같이 탈 수 없습니다.\n",
        "\n",
        "구명보트를 최대한 적게 사용하여 모든 사람을 구출하려고 합니다.\n",
        "\n",
        "사람들의 몸무게를 담은 배열 people과 구명보트의 무게 제한 limit가 매개변수로 주어질 때, 모든 사람을 구출하기 위해 필요한 구명보트 개수의 최솟값을 return 하도록 solution 함수를 작성해주세요.\n",
        "\n",
        "### - 제한 사항\n",
        "\n",
        "* 무인도에 갇힌 사람은 1명 이상 50,000명 이하입니다.\n",
        "* 각 사람의 몸무게는 40kg 이상 240kg 이하입니다.\n",
        "* 구명보트의 무게 제한은 40kg 이상 240kg 이하입니다.\n",
        "* 구명보트의 무게 제한은 항상 사람들의 몸무게 중 최댓값보다 크게 주어지므로 사람들을 구출할 수 없는 경우는 없습니다.\n",
        "\n",
        "### - 입출력 예\n",
        "\n",
        "![image.png](data:image/png;base64,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)"
      ],
      "metadata": {
        "id": "RfOAn1U1DGjm"
      }
    },
    {
      "cell_type": "markdown",
      "source": [
        "people을 정렬하여 오름차순으로 만든다.\n",
        "\n",
        "그러면 몸무게가 가장 낮은 사람의 index는 0, 가장 큰 사람의 index는 people 길이 -1이 된다.\n",
        "\n",
        "그러고 현재 두 사람의 몸무게를 합하여 limit보다 작거나 같으면 둘다 태우고, 크다면 몸무게가 큰 사람만 태운다."
      ],
      "metadata": {
        "id": "GH290SSPJNwU"
      }
    },
    {
      "cell_type": "code",
      "execution_count": 1,
      "metadata": {
        "id": "Ru0B-_0fC9jx"
      },
      "outputs": [],
      "source": [
        "def solution(people, limit):\n",
        "    answer = 0\n",
        "    people.sort()\n",
        "    i, j = 0, len(people)-1\n",
        "    while i<=j:\n",
        "        answer += 1\n",
        "        print(answer, i, j, people[i], people[j])\n",
        "        if people[i] + people[j] <= limit:\n",
        "            i += 1\n",
        "        j -= 1\n",
        "\n",
        "    return answer"
      ]
    },
    {
      "cell_type": "code",
      "source": [
        "print(solution([70, 50, 80, 50], 100))\n",
        "print(solution([70, 80, 50], 100))"
      ],
      "metadata": {
        "colab": {
          "base_uri": "https://localhost:8080/"
        },
        "id": "wZIsntAmIA9v",
        "outputId": "629f983b-613a-4fee-9791-e1081216a3a7"
      },
      "execution_count": 2,
      "outputs": [
        {
          "output_type": "stream",
          "name": "stdout",
          "text": [
            "1 0 3 50 80\n",
            "2 0 2 50 70\n",
            "3 0 1 50 50\n",
            "3\n",
            "1 0 2 50 80\n",
            "2 0 1 50 70\n",
            "3 0 0 50 50\n",
            "3\n"
          ]
        }
      ]
    }
  ]
}